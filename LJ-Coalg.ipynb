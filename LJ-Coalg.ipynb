{
 "cells": [
  {
   "cell_type": "markdown",
   "id": "f57e02a3-ca0d-466a-8323-77f8eb2fd531",
   "metadata": {},
   "source": [
    "# Preamble"
   ]
  },
  {
   "cell_type": "code",
   "execution_count": 3,
   "id": "4b71ec81-6b8e-468e-ad7d-a61ef629d067",
   "metadata": {},
   "outputs": [
    {
     "data": {
      "text/plain": [
       "\u001b[32mimport \u001b[39m\u001b[36m$ivy.$                                \n",
       "\u001b[39m\n",
       "\u001b[32mimport \u001b[39m\u001b[36m$ivy.$                                \n",
       "\u001b[39m"
      ]
     },
     "execution_count": 3,
     "metadata": {},
     "output_type": "execute_result"
    }
   ],
   "source": [
    "import $ivy.`org.typelevel::cats-core:2.13.0`\n",
    "import $ivy.`org.typelevel::cats-free:2.13.0`"
   ]
  },
  {
   "cell_type": "code",
   "execution_count": 4,
   "id": "5efde560-72f9-4c9c-85a0-083466beef65",
   "metadata": {},
   "outputs": [
    {
     "data": {
      "text/plain": [
       "\u001b[32mimport \u001b[39m\u001b[36mcats.*, cats.syntax.all.*\n",
       "\u001b[39m\n",
       "\u001b[32mimport \u001b[39m\u001b[36mcats.free.* \n",
       "\u001b[39m\n",
       "\u001b[32mimport \u001b[39m\u001b[36mTuple.*\n",
       "\u001b[39m"
      ]
     },
     "execution_count": 4,
     "metadata": {},
     "output_type": "execute_result"
    }
   ],
   "source": [
    "import cats.*, cats.syntax.all.*\n",
    "import cats.free.* \n",
    "import Tuple.*"
   ]
  },
  {
   "cell_type": "markdown",
   "id": "109c7448-f1ff-42f2-903d-bbd1bc1b47a5",
   "metadata": {
    "jp-MarkdownHeadingCollapsed": true
   },
   "source": [
    "#### Rose trees"
   ]
  },
  {
   "cell_type": "code",
   "execution_count": 5,
   "id": "6e3827fe-a8b9-48d0-9d8a-b313b85470f7",
   "metadata": {},
   "outputs": [
    {
     "data": {
      "text/plain": [
       "defined \u001b[32mclass\u001b[39m \u001b[36mTree\u001b[39m\n",
       "defined \u001b[32mobject\u001b[39m \u001b[36mTree\u001b[39m"
      ]
     },
     "execution_count": 5,
     "metadata": {},
     "output_type": "execute_result"
    }
   ],
   "source": [
    "case class Tree[+A](a: String, children: List[Tree[?]])\n",
    "\n",
    "object Tree: \n",
    "\n",
    "    given [A]: Show[Tree[A]] with \n",
    "\n",
    "        def toString(t: Tree[?])(prefix: String, bar: String, sep: String): String = \n",
    "            prefix + sep + t.a.toString + \n",
    "            (t.children match \n",
    "                case List() => \"\" \n",
    "                case head :: tail => \n",
    "                    \"\\n\" + \n",
    "                    (if tail.isEmpty then \"\"\n",
    "                    else tail.map(toString(_)(prefix + bar + \"   \", \"|\", \"├──\"))\n",
    "                            .mkString(\"\\n\") + \"\\n\") +\n",
    "                    toString(head)(prefix + bar + \"   \", \"\", \"└──\")       \n",
    "            )\n",
    "\n",
    "        def show(t: Tree[A]): String = \n",
    "            toString(t)(\"\", \"\", \"\")"
   ]
  },
  {
   "cell_type": "markdown",
   "id": "c7e8cd52-7fed-4a3c-800a-a1f22a48e775",
   "metadata": {
    "jp-MarkdownHeadingCollapsed": true
   },
   "source": [
    "#### Higher-order features"
   ]
  },
  {
   "cell_type": "code",
   "execution_count": 6,
   "id": "19aa7b7c-f78b-4fee-93ff-603c5d31866d",
   "metadata": {},
   "outputs": [
    {
     "data": {
      "text/plain": [
       "defined \u001b[32mtype\u001b[39m \u001b[36m~>\u001b[39m"
      ]
     },
     "execution_count": 6,
     "metadata": {},
     "output_type": "execute_result"
    }
   ],
   "source": [
    "infix type ~>[F[_], G[_]] = [A] => F[A] => G[A]"
   ]
  },
  {
   "cell_type": "code",
   "execution_count": 7,
   "id": "b5c8b24d-b447-4bc8-aafa-70066a62f186",
   "metadata": {},
   "outputs": [
    {
     "data": {
      "text/plain": [
       "defined \u001b[32mtype\u001b[39m \u001b[36m~~>\u001b[39m"
      ]
     },
     "execution_count": 7,
     "metadata": {},
     "output_type": "execute_result"
    }
   ],
   "source": [
    "infix type ~~>[F[_[_]] <: [A] =>> Any, G[_[_]] <: [A] =>> Any] = [T[_], A] => F[T][A] => G[T][A]"
   ]
  },
  {
   "cell_type": "code",
   "execution_count": 8,
   "id": "a3e88b44-3e36-4b49-98e7-281dd3746d69",
   "metadata": {},
   "outputs": [
    {
     "data": {
      "text/plain": [
       "\u001b[32mimport \u001b[39m\u001b[36mscala.language.implicitConversions\n",
       "\u001b[39m"
      ]
     },
     "execution_count": 8,
     "metadata": {},
     "output_type": "execute_result"
    }
   ],
   "source": [
    "import scala.language.implicitConversions"
   ]
  },
  {
   "cell_type": "code",
   "execution_count": 8,
   "id": "4621029e-b2d0-4ebd-9ae6-57d99b993388",
   "metadata": {},
   "outputs": [],
   "source": [
    "/*implicit def nat[S[_], T[_]](f: [A] => S[A] => T[A]): S ~> T =\n",
    "    new (S ~> T): \n",
    "        def apply[A](x: S[A]): T[A] = f(x)*/"
   ]
  },
  {
   "cell_type": "code",
   "execution_count": 9,
   "id": "1dc5b585-00d3-49ca-b9a3-651a6e31a2b7",
   "metadata": {},
   "outputs": [
    {
     "data": {
      "text/plain": [
       "defined \u001b[32mtrait\u001b[39m \u001b[36mHFunctor\u001b[39m\n",
       "defined \u001b[32mobject\u001b[39m \u001b[36mHFunctor\u001b[39m"
      ]
     },
     "execution_count": 9,
     "metadata": {},
     "output_type": "execute_result"
    }
   ],
   "source": [
    "trait HFunctor[F[_[_]] <: [t] =>> Any]: \n",
    "    def hfmap[G[_], H[_]](nat: G ~> H): F[G] ~> F[H]\n",
    "   \n",
    "object HFunctor: \n",
    "\n",
    "    def apply[F[_[_]] <: [t] =>> Any](using H: HFunctor[F]): HFunctor[F] = H"
   ]
  },
  {
   "cell_type": "code",
   "execution_count": 10,
   "id": "55dabe5a-f6a2-4d16-a548-df83143d569e",
   "metadata": {},
   "outputs": [
    {
     "data": {
      "text/plain": [
       "defined \u001b[32mtype\u001b[39m \u001b[36mCompose\u001b[39m"
      ]
     },
     "execution_count": 10,
     "metadata": {},
     "output_type": "execute_result"
    }
   ],
   "source": [
    "infix type Compose[G[_], F[_]] = [t] =>> G[F[t]]"
   ]
  },
  {
   "cell_type": "code",
   "execution_count": 11,
   "id": "c866b260-ed3a-4fcb-aea7-0fb7a53863f3",
   "metadata": {},
   "outputs": [
    {
     "data": {
      "text/plain": [
       "defined \u001b[32mtype\u001b[39m \u001b[36mHCompose\u001b[39m\n",
       "defined \u001b[32mclass\u001b[39m \u001b[36mHCompose_Functor\u001b[39m"
      ]
     },
     "execution_count": 11,
     "metadata": {},
     "output_type": "execute_result"
    }
   ],
   "source": [
    "infix type HCompose[G[_], F[_[_]] <: [t] =>> Any] = [t[_]] =>> [a] =>> G[F[t][a]]\n",
    "\n",
    "given HCompose_Functor[G[_]: Functor, F[_[_]] <: [t] =>> Any : HFunctor]: HFunctor[G HCompose F] with \n",
    "    def hfmap[H[_], I[_]](hToi: H ~> I): HCompose[G, F][H] ~> HCompose[G, F][I] = \n",
    "        [A] => (gh: G[F[H][A]]) =>\n",
    "            val fnat: F[H] ~> F[I] = HFunctor[F].hfmap(hToi)\n",
    "            gh map fnat[A]"
   ]
  },
  {
   "cell_type": "code",
   "execution_count": 12,
   "id": "754c8753-733d-48e0-969b-26d53c0483c5",
   "metadata": {},
   "outputs": [
    {
     "data": {
      "text/plain": [
       "defined \u001b[32mtrait\u001b[39m \u001b[36mHTraverse\u001b[39m\n",
       "defined \u001b[32mobject\u001b[39m \u001b[36mHTraverse\u001b[39m"
      ]
     },
     "execution_count": 12,
     "metadata": {},
     "output_type": "execute_result"
    }
   ],
   "source": [
    "trait HTraverse[F[_[_]] <: [t] =>> Any]: \n",
    "    def traverse[H[_], I[_]: Applicative, J[_]](f: H ~> (I Compose J)): F[H] ~> (I HCompose F)[J]\n",
    "\n",
    "object HTraverse: \n",
    "\n",
    "    def apply[F[_[_]] <: [t] =>> Any](using H: HTraverse[F]): HTraverse[F] = H"
   ]
  },
  {
   "cell_type": "code",
   "execution_count": 13,
   "id": "8ba8fd0e-11ce-40dc-b750-52d8dfdd854b",
   "metadata": {},
   "outputs": [
    {
     "data": {
      "text/plain": [
       "defined \u001b[32mtype\u001b[39m \u001b[36mHMu\u001b[39m\n",
       "defined \u001b[32mclass\u001b[39m \u001b[36mHMuA\u001b[39m\n",
       "defined \u001b[32mobject\u001b[39m \u001b[36mHMuA\u001b[39m"
      ]
     },
     "execution_count": 13,
     "metadata": {},
     "output_type": "execute_result"
    }
   ],
   "source": [
    "type HMu[F[_[_]] <: [t] =>> Any] = [A] =>> () => HMuA[F, A]\n",
    "\n",
    "case class HMuA[F[_[_]] <: [t] =>> Any, A](out: F[HMu[F]][A])\n",
    "\n",
    "object HMuA: \n",
    "\n",
    "    def in[F[_[_]] <: [t] =>> Any]: ([t] =>> () => F[HMu[F]][t]) ~> HMu[F] = \n",
    "        [A] => (f: () => F[HMu[F]][A]) => () => HMuA[F, A](f())\n",
    "\n",
    "    def map[F[_[_]] <: [t] =>> Any : HFunctor, G[_[_]] <: [A] =>> Any](nnat: F ~~> G): HMu[F] ~> HMu[G] = \n",
    "        [A] => (h: HMu[F][A]) => \n",
    "            val nat: F[HMu[F]] ~> F[HMu[G]] = HFunctor[F].hfmap(map(nnat))\n",
    "            () => HMuA[G, A](nnat[HMu[G], A](nat[A](h().out)))\n",
    "\n",
    "    def map_atDepth[F[_[_]] <: [t] =>> Any : HFunctor, G[_[_]] <: [A] =>> Any](nnat: Int => (F ~~> G)): HMu[F] ~> HMu[G] = \n",
    "        def go(level: Int): HMu[F] ~> HMu[G] = \n",
    "            [A] => (h: HMu[F][A]) => \n",
    "                val nat: F[HMu[F]] ~> F[HMu[G]] = HFunctor[F].hfmap(go(level+1))\n",
    "                () => HMuA[G, A](nnat(level).apply[HMu[G], A](nat[A](h().out)))\n",
    "\n",
    "        go(0)\n",
    "\n",
    "    def truncate[F[_[_]] <: [t] =>> Any : HFunctor](depth: Int): HMu[F] ~> HMu[Option HCompose F] = \n",
    "        map_atDepth[F, Option HCompose F](\n",
    "            level => [T[_], A] => (f: F[T][A]) => \n",
    "                if level == depth then None else Some(f)\n",
    "        )\n",
    "\n",
    "    def fold[F[_[_]] <: [t] =>> Any : HFunctor, H[_]](alg: F[H] ~> H): HMu[F] ~> H = \n",
    "        [A] => (hf: () => HMuA[F, A]) => \n",
    "            val nat: F[HMu[F]] ~> F[H] = HFunctor[F].hfmap(fold(alg))\n",
    "            alg[A](nat[A](hf().out))\n",
    "\n",
    "    def unfold[H[_], F[_[_]] <: [t] =>> Any : HFunctor](coalg: H ~> F[H]): H ~> HMu[F] =\n",
    "        [A] => (h: H[A]) =>\n",
    "            val nat: F[H] ~> F[HMu[F]] = HFunctor[F].hfmap(unfold(coalg))\n",
    "            () => HMuA[F, A](nat[A](coalg[A](h)))\n",
    "\n",
    "    def sequenceF_Rec[G[_]: Monad, H[_[_]] <: [t] =>> Any : HTraverse](rec: HMu[G HCompose H] ~> (G Compose HMu[H])):\n",
    "            HMu[G HCompose H] ~> (G Compose HMu[H]) =\n",
    "        [A] => (ss: HMu[G HCompose H][A]) =>\n",
    "            Monad[G].flatMap(ss().out): (h: H[HMu[G HCompose H]][A]) => \n",
    "                val nat: H[HMu[G HCompose H]] ~> (G HCompose H)[HMu[H]] = \n",
    "                    HTraverse[H].traverse[HMu[G HCompose H], G, HMu[H]]([B] => hmu => rec(hmu))\n",
    "                Functor[G].map(nat[A](h))(h => in[H][A](() => h))\n",
    "\n",
    "    def sequenceF[G[_]: Monad, H[_[_]] <: [t] =>> Any : HTraverse]: HMu[G HCompose H] ~> (G Compose HMu[H]) =\n",
    "        sequenceF_Rec(sequenceF[G, H])\n",
    "\n",
    "    def sequenceF_Until[G[_]: Monad: Alternative, H[_[_]] <: [t] =>> Any : HTraverse](depth: Int): \n",
    "          HMu[G HCompose H] ~> (G Compose HMu[H]) = \n",
    "        if depth == 0 then [A] => _ => Alternative[G].empty\n",
    "        else sequenceF_Rec(sequenceF_Until[G, H](depth-1))\n",
    "\n",
    "    def show[F[_[_]] <: [t] =>> Any : HFunctor](depth: Int)(using alg: F[Tree] ~> Tree): HMu[F] ~> ([_] =>> String) = \n",
    "        given HFunctor[Option HCompose F] = HCompose_Functor[Option, F]\n",
    "\n",
    "        val optAlg: (Option HCompose F)[Tree] ~> Tree = [A] => (of: Option[F[Tree][A]]) => \n",
    "            of match \n",
    "                case None => Tree(\"...\", Nil)\n",
    "                case Some(f) => alg[A](f)\n",
    "                    \n",
    "        [A] => (h: HMu[F][A]) => \n",
    "            val truncated: HMu[Option HCompose F][A] = truncate[F](depth)(h)\n",
    "            val tree: Tree[A] = fold[Option HCompose F, Tree](optAlg)(truncated)\n",
    "            tree.show\n"
   ]
  },
  {
   "cell_type": "code",
   "execution_count": 14,
   "id": "97d0a224-417c-4cb0-8089-f5a01e992bd9",
   "metadata": {},
   "outputs": [
    {
     "data": {
      "text/plain": [
       "defined \u001b[32mtype\u001b[39m \u001b[36mHFix\u001b[39m\n",
       "defined \u001b[32mclass\u001b[39m \u001b[36mHFixA\u001b[39m\n",
       "defined \u001b[32mobject\u001b[39m \u001b[36mHFixA\u001b[39m"
      ]
     },
     "execution_count": 14,
     "metadata": {},
     "output_type": "execute_result"
    }
   ],
   "source": [
    "type HFix[F[_[_]] <: [t] =>> Any] = [A] =>> HFixA[F, A]\n",
    "          \n",
    "case class HFixA[F[_[_]] <: [t] =>> Any, A](out: F[HFix[F]][A])\n",
    "\n",
    "object HFixA: \n",
    "\n",
    "    def from[F[_[_]] <: [t] =>> Any : HFunctor]: HMu[F] ~> HFix[F] =\n",
    "        [A] => (mu: HMu[F][A]) => \n",
    "            val nat: F[HMu[F]] ~> F[HFix[F]] = HFunctor[F].hfmap(from[F])\n",
    "            HFixA[F, A](nat[A](mu().out))\n",
    "\n",
    "    def fold[F[_[_]] <: [t] =>> Any : HFunctor, H[_]](alg: F[H] ~> H): HFix[F] ~> H =\n",
    "        [A] => (hf: HFix[F][A]) =>\n",
    "            val nat: F[HFix[F]] ~> F[H] = HFunctor[F].hfmap(fold(alg))\n",
    "            alg[A](nat[A](hf.out))\n"
   ]
  },
  {
   "cell_type": "markdown",
   "id": "9f337ced-624f-4974-a593-88bd93d1f4d4",
   "metadata": {
    "jp-MarkdownHeadingCollapsed": true
   },
   "source": [
    "# Sequents & types"
   ]
  },
  {
   "cell_type": "code",
   "execution_count": 15,
   "id": "05f675b7-0664-4200-989a-31e8be1ee4b3",
   "metadata": {},
   "outputs": [
    {
     "data": {
      "text/plain": [
       "\u001b[32mimport \u001b[39m\u001b[36mscala.reflect.{ClassTag, classTag}\n",
       "\u001b[39m"
      ]
     },
     "execution_count": 15,
     "metadata": {},
     "output_type": "execute_result"
    }
   ],
   "source": [
    "import scala.reflect.{ClassTag, classTag}"
   ]
  },
  {
   "cell_type": "code",
   "execution_count": 16,
   "id": "75cfa078-d473-46c7-9027-09c6ea27f4b8",
   "metadata": {},
   "outputs": [
    {
     "data": {
      "text/plain": [
       "defined \u001b[32mclass\u001b[39m \u001b[36mType\u001b[39m\n",
       "defined \u001b[32mobject\u001b[39m \u001b[36mType\u001b[39m"
      ]
     },
     "execution_count": 16,
     "metadata": {},
     "output_type": "execute_result"
    }
   ],
   "source": [
    "enum Type[T]: \n",
    "    case atom[T](s: String) extends Type[T]\n",
    "    case implies[T1, T2](t1: Type[T1], t2: Type[T2]) extends Type[T1 => T2]\n",
    "\n",
    "object Type:\n",
    "\n",
    "    def apply[T](using T: Type[T]): Type[T] = T\n",
    "\n",
    "    given Type_Implies[T1, T2](using t1: Type[T1], t2: Type[T2]): Type[T1 => T2] = Type.implies(t1, t2)\n",
    "\n",
    "    given Type_Atom[T: ClassTag]: Type[T] = \n",
    "        val name = classTag[T].runtimeClass.getName()\n",
    "        atom[T]((\"\"\".*\\$(.*)\"\"\".r).findFirstMatchIn(name).fold(name)(_.group(1)))\n",
    "\n",
    "    def show(t: Type[?]): String = \n",
    "        t match \n",
    "            case atom(s) => s\n",
    "            case implies(t1, t2) => \"(\" + show(t1) + \" => \" + show(t2) + \")\""
   ]
  },
  {
   "cell_type": "code",
   "execution_count": 17,
   "id": "fa3a2a7c-c156-4484-a8a4-7c5b1926ae66",
   "metadata": {},
   "outputs": [
    {
     "data": {
      "text/plain": [
       "defined \u001b[32mtype\u001b[39m \u001b[36mEnv\u001b[39m\n",
       "defined \u001b[32mobject\u001b[39m \u001b[36mEnv\u001b[39m"
      ]
     },
     "execution_count": 17,
     "metadata": {},
     "output_type": "execute_result"
    }
   ],
   "source": [
    "type Env[T <: Tuple] <: Tuple = T match \n",
    "    case EmptyTuple => EmptyTuple\n",
    "    case h *: t => Type[h] *: Env[t]\n",
    "\n",
    "object Env: \n",
    "    def apply[T <: Tuple](using E: Env[T]): Env[T] = E\n",
    "\n",
    "    given Env[EmptyTuple] = EmptyTuple\n",
    "    given [H: Type, T <: Tuple: Env]: Env[H *: T] = Type[H] *: summon[Env[T]]\n",
    "\n",
    "    def show(env: Tuple): String = \n",
    "        (env: @unchecked) match \n",
    "            case EmptyTuple => \"\"\n",
    "            case (h: Type[?]) *: EmptyTuple => Type.show(h)\n",
    "            case (h: Type[?]) *: tail  => Type.show(h) + \", \" + show(tail)"
   ]
  },
  {
   "cell_type": "code",
   "execution_count": 18,
   "id": "f1a26246-e48f-4bc9-90d8-1969ab5e9fc1",
   "metadata": {},
   "outputs": [
    {
     "data": {
      "text/plain": [
       "\u001b[32mimport \u001b[39m\u001b[36mEnv.given\n",
       "\u001b[39m"
      ]
     },
     "execution_count": 18,
     "metadata": {},
     "output_type": "execute_result"
    }
   ],
   "source": [
    "import Env.given"
   ]
  },
  {
   "cell_type": "code",
   "execution_count": 19,
   "id": "bdfdc45a-5a5d-4e18-9c63-4663ac3312a6",
   "metadata": {},
   "outputs": [
    {
     "data": {
      "text/plain": [
       "defined \u001b[32mclass\u001b[39m \u001b[36mSequent\u001b[39m\n",
       "defined \u001b[32mobject\u001b[39m \u001b[36mSequent\u001b[39m"
      ]
     },
     "execution_count": 19,
     "metadata": {},
     "output_type": "execute_result"
    }
   ],
   "source": [
    "case class Sequent[E <: Tuple, A](env: Env[E], con: Type[A])\n",
    "\n",
    "object Sequent: \n",
    "    def apply[E <: Tuple, A](using S: Sequent[E, A]): Sequent[E, A] = S \n",
    "\n",
    "    given [E <: Tuple: Env, A: Type]: Sequent[E, A] = \n",
    "        Sequent(Env[E], Type[A])\n",
    "\n",
    "    def show(s: Sequent[?, ?]): String = \n",
    "        Env.show(s.env) + \" ⊢ \" + Type.show(s.con)"
   ]
  },
  {
   "cell_type": "markdown",
   "id": "cefaca88-8d01-4950-a7ce-0822359b48a0",
   "metadata": {},
   "source": [
    "#### Tuples"
   ]
  },
  {
   "cell_type": "code",
   "execution_count": 20,
   "id": "1e108636-5b83-4565-852f-4cf1ef562adb",
   "metadata": {},
   "outputs": [
    {
     "data": {
      "text/plain": [
       "defined \u001b[32mtrait\u001b[39m \u001b[36mIndexOf\u001b[39m\n",
       "defined \u001b[32mobject\u001b[39m \u001b[36mIndexOf\u001b[39m"
      ]
     },
     "execution_count": 20,
     "metadata": {},
     "output_type": "execute_result"
    }
   ],
   "source": [
    "trait IndexOf[T <: Tuple, A]: \n",
    "    val i: Int\n",
    "    val eq: Elem[T, i.type] =:= A\n",
    "\n",
    "object IndexOf: \n",
    "    def apply[T <: Tuple, A](j: Int)(using Elem[T, j.type] =:= A): IndexOf[T, A] = \n",
    "        new IndexOf[T, A]: \n",
    "            val i: j.type = j\n",
    "            val eq = summon"
   ]
  },
  {
   "cell_type": "code",
   "execution_count": 21,
   "id": "028f5a5c-b4cb-4be3-b09a-bb82b7836f5e",
   "metadata": {},
   "outputs": [
    {
     "data": {
      "text/plain": [
       "defined \u001b[32mfunction\u001b[39m \u001b[36mindexOf\u001b[39m"
      ]
     },
     "execution_count": 21,
     "metadata": {},
     "output_type": "execute_result"
    }
   ],
   "source": [
    "def indexOf[T <: Tuple, A](a: A)(t: T): Option[IndexOf[T, A]] = \n",
    "    def go(out: Int, t: Tuple): Option[IndexOf[T, A]] = \n",
    "        t match \n",
    "            case EmptyTuple => None\n",
    "            case `a` *: _ => Some(IndexOf[T, A](out)(using <:<.refl[Elem[T, out.type]].asInstanceOf[Elem[T, out.type] =:= A]))\n",
    "            case _ *: tail => go(out+1, tail)\n",
    "\n",
    "    go(0, t)"
   ]
  },
  {
   "cell_type": "code",
   "execution_count": 22,
   "id": "faf9d49b-aeba-4e53-b401-5a83713c3209",
   "metadata": {},
   "outputs": [
    {
     "data": {
      "text/plain": [
       "defined \u001b[32mtrait\u001b[39m \u001b[36mIndexOfImpl\u001b[39m\n",
       "defined \u001b[32mobject\u001b[39m \u001b[36mIndexOfImpl\u001b[39m"
      ]
     },
     "execution_count": 22,
     "metadata": {},
     "output_type": "execute_result"
    }
   ],
   "source": [
    "trait IndexOfImpl[T <: Tuple]: \n",
    "    val i: Int\n",
    "    type a: Type\n",
    "    type b: Type\n",
    "    val eq: Elem[T, i.type] =:= (a => b)\n",
    "    \n",
    "object IndexOfImpl: \n",
    "    def apply[T <: Tuple, A: Type, B: Type](j: Int)(using Elem[T, j.type] =:= (A => B)): IndexOfImpl[T] = \n",
    "        new IndexOfImpl[T]: \n",
    "            val i: j.type = j\n",
    "            type a = A\n",
    "            type b = B\n",
    "            val eq = summon"
   ]
  },
  {
   "cell_type": "code",
   "execution_count": 23,
   "id": "539342de-44ad-4e29-9961-b683c7c69a78",
   "metadata": {},
   "outputs": [
    {
     "data": {
      "text/plain": [
       "defined \u001b[32mfunction\u001b[39m \u001b[36mindexOfImpl\u001b[39m"
      ]
     },
     "execution_count": 23,
     "metadata": {},
     "output_type": "execute_result"
    }
   ],
   "source": [
    "def indexOfImpl[T <: Tuple](t: T): LazyList[IndexOfImpl[T]] = \n",
    "    def go(i: Int, out: LazyList[IndexOfImpl[T]], t: Tuple): LazyList[IndexOfImpl[T]] = \n",
    "        t match\n",
    "            case EmptyTuple => out.reverse\n",
    "            case Type.implies(ta: Type[a], tb: Type[b]) *: tail => \n",
    "                go(i+1, IndexOfImpl(i)(using ta, tb, <:<.refl[Elem[T, i.type]].asInstanceOf[Elem[T, i.type] =:= (a => b)]) +: out, tail)\n",
    "            case _ *: tail => go(i+1, out, tail)\n",
    "\n",
    "    go(0, LazyList.empty, t)"
   ]
  },
  {
   "cell_type": "markdown",
   "id": "c40436f6-b27c-474a-a20a-096f01fcde9d",
   "metadata": {},
   "source": [
    "# Natural Deduction/Lambda Calculus Minimal Propositional Logic"
   ]
  },
  {
   "cell_type": "markdown",
   "id": "cf8a83b5-cd1a-46f5-8828-55d89f597ac5",
   "metadata": {
    "jp-MarkdownHeadingCollapsed": true
   },
   "source": [
    "### Tagless-final"
   ]
  },
  {
   "cell_type": "code",
   "execution_count": 24,
   "id": "2c79d28b-c447-4b71-b760-4e067b663604",
   "metadata": {},
   "outputs": [
    {
     "data": {
      "text/plain": [
       "defined \u001b[32mtrait\u001b[39m \u001b[36mND\u001b[39m\n",
       "defined \u001b[32mobject\u001b[39m \u001b[36mND\u001b[39m"
      ]
     },
     "execution_count": 24,
     "metadata": {},
     "output_type": "execute_result"
    }
   ],
   "source": [
    "//trait Lambda[P[_ <: Sequent[_, _]]]:\n",
    "trait ND[P[_]]:\n",
    "    def v[Γ <: Tuple, A](i: Int)(using Elem[Γ, i.type] =:= A): P[Sequent[Γ, A]]\n",
    "    def abs[Γ <: Tuple, A, B](t: P[Sequent[A *: Γ, B]]): P[Sequent[Γ, A => B]]\n",
    "    def app[Γ <: Tuple, A, B](f: P[Sequent[Γ, A => B]])(t1: P[Sequent[Γ, A]]): P[Sequent[Γ, B]]\n",
    "    def substz[Γ <: Tuple, A, B](t1: P[Sequent[Γ, A]])(t2: P[Sequent[A *: Γ, B]]): P[Sequent[Γ, B]]\n",
    "\n",
    "object ND:\n",
    "\n",
    "    type Std[S] <: Function1[?, ?] = S match \n",
    "        case Sequent[e, a] => (e => a)\n",
    "                \n",
    "    given Std_ND: ND[Std] with \n",
    "        def v[E <: Tuple, A](i: Int)(using Elem[E, i.type] =:= A): E => A = _(i)\n",
    "        def abs[E <: Tuple, T1, T2](t: (T1 *: E) => T2): E => T1 => T2 = e => t1 => t(t1 *: e)\n",
    "        def app[E <: Tuple, T1, T2](f: E => T1 => T2)(t1: E => T1): E => T2 = e => f(e)(t1(e))\n",
    "        def substz[E <: Tuple, T1, T2](t1: E => T1)(t2: (T1 *: E) => T2): E => T2 = e => t2(t1(e) *: e)\n",
    "\n",
    "    given Show: ND[[_] =>> String] with \n",
    "        def v[E <: Tuple, A](i: Int)(using Elem[E, i.type] =:= A): String = s\"v$i\"\n",
    "        def abs[E <: Tuple, T1, T2](t: String): String = s\"λ($t)\"\n",
    "        def app[E <: Tuple, T1, T2](f: String)(t1: String): String = s\"$f($t1)\"\n",
    "        def substz[E <: Tuple, T1, T2](t1: String)(t2: String): String = s\"$t2[$t1/v0]\" // t2.replace(\"v0\", t1)\n"
   ]
  },
  {
   "cell_type": "code",
   "execution_count": 25,
   "id": "abdfad7a-16a0-4693-9046-ba253516d8f4",
   "metadata": {},
   "outputs": [
    {
     "data": {
      "text/plain": [
       "defined \u001b[32mfunction\u001b[39m \u001b[36mt1\u001b[39m\n",
       "\u001b[36mres25_1\u001b[39m: \u001b[32mInt\u001b[39m = \u001b[32m0\u001b[39m\n",
       "\u001b[36mres25_2\u001b[39m: \u001b[32mString\u001b[39m = \u001b[32m\"λ(λ(λ(v0)))\"\u001b[39m"
      ]
     },
     "execution_count": 25,
     "metadata": {},
     "output_type": "execute_result"
    }
   ],
   "source": [
    "def t1[P[_]](using L: ND[P]): P[Sequent[EmptyTuple, Int => Int => Int => Int]] = \n",
    "    L.abs(L.abs(L.abs(L.v(0))))\n",
    "\n",
    "t1[ND.Std](EmptyTuple)(2)(1)(0)\n",
    "t1[[_] =>> String]"
   ]
  },
  {
   "cell_type": "markdown",
   "id": "cb6abd46-5667-4820-b8b9-36a339056215",
   "metadata": {},
   "source": [
    "# LJ Minimal Propositional Logic"
   ]
  },
  {
   "cell_type": "markdown",
   "id": "7e6de534-4290-42df-bca8-9f149d468bfe",
   "metadata": {
    "jp-MarkdownHeadingCollapsed": true,
    "tags": []
   },
   "source": [
    "### Tagles-final"
   ]
  },
  {
   "cell_type": "code",
   "execution_count": 26,
   "id": "2da423e1-6f4c-4e9a-b88e-0dbcbab2d786",
   "metadata": {},
   "outputs": [
    {
     "data": {
      "text/plain": [
       "defined \u001b[32mobject\u001b[39m \u001b[36mTF\u001b[39m"
      ]
     },
     "execution_count": 26,
     "metadata": {},
     "output_type": "execute_result"
    }
   ],
   "source": [
    "object TF: \n",
    "\n",
    "    trait LJ[T[_]]: \n",
    "\n",
    "        def ax[Γ <: Tuple, A](i: Int)(using Elem[Γ, i.type] =:= A): T[Sequent[Γ, A]]\n",
    "\n",
    "        def `l=>`[Γ <: Tuple, A, B, C](\n",
    "            i: Int, \n",
    "            t1: T[Sequent[Γ, A]], \n",
    "            t2: T[Sequent[B *: Γ, C]])(using Elem[Γ, i.type] =:= (A => B)): \n",
    "                T[Sequent[Γ, C]]\n",
    "\n",
    "        def `r=>`[Γ <: Tuple, A, B](t: T[Sequent[A *: Γ, B]]): T[Sequent[Γ, A => B]]\n",
    "\n",
    "    object LJ: \n",
    "\n",
    "        given LJ_ND[T[_]](using L: ND[T]): LJ[T] with \n",
    "\n",
    "            def ax[Γ <: Tuple, A](i: Int)(using Elem[Γ, i.type] =:= A): T[Sequent[Γ, A]] = \n",
    "                L.v(i)\n",
    "\n",
    "            def `l=>`[Γ <: Tuple, A, B, C](\n",
    "                    i: Int,\n",
    "                    t1: T[Sequent[Γ, A]],\n",
    "                    t2: T[Sequent[B *: Γ, C]])(using eq: Elem[Γ, i.type] =:= (A => B)):\n",
    "                        T[Sequent[Γ, C]] =\n",
    "                L.substz(L.app(L.v(i))(t1))(t2)\n",
    "\n",
    "            def `r=>`[Γ <: Tuple, A, B](t: T[Sequent[A *: Γ, B]]): T[Sequent[Γ, A => B]] = \n",
    "                L.abs(t)"
   ]
  },
  {
   "cell_type": "code",
   "execution_count": 27,
   "id": "3e684dad-56fc-443f-a6f3-63b62c5aa19f",
   "metadata": {},
   "outputs": [
    {
     "data": {
      "text/plain": [
       "defined \u001b[32mfunction\u001b[39m \u001b[36mproof1\u001b[39m"
      ]
     },
     "execution_count": 27,
     "metadata": {},
     "output_type": "execute_result"
    }
   ],
   "source": [
    "def proof1[T[_], A, B](using LJ: TF.LJ[T]): T[Sequent[EmptyTuple, A => B => A]] = \n",
    "    LJ.`r=>`(\n",
    "        LJ.`r=>`(\n",
    "            LJ.ax(1): T[Sequent[B *: A *: EmptyTuple, A]]\n",
    "        ): T[Sequent[A *: EmptyTuple, B => A]]\n",
    "    ): T[Sequent[EmptyTuple, A => B => A]]"
   ]
  },
  {
   "cell_type": "code",
   "execution_count": 28,
   "id": "a735ed83-73c8-4a8d-bf2a-cc72b9012f82",
   "metadata": {},
   "outputs": [
    {
     "data": {
      "text/plain": [
       "defined \u001b[32mfunction\u001b[39m \u001b[36mproof2\u001b[39m"
      ]
     },
     "execution_count": 28,
     "metadata": {},
     "output_type": "execute_result"
    }
   ],
   "source": [
    "def proof2[T[_], A, B, C](using LJ: TF.LJ[T]): \n",
    "        T[Sequent[EmptyTuple, (A => B => C) => (A => B) => A => C]] = \n",
    "    LJ.`r=>`(\n",
    "        LJ.`r=>`(\n",
    "            LJ.`r=>`(\n",
    "                LJ.`l=>`(1,\n",
    "                    LJ.ax(0): T[Sequent[A *: (A => B) *: (A => B => C) *: EmptyTuple, A]], \n",
    "                    LJ.`l=>`(3,\n",
    "                        LJ.ax(1),\n",
    "                        LJ.`l=>`(0,\n",
    "                            LJ.ax(1),\n",
    "                            LJ.ax(0)\n",
    "                        ): T[Sequent[(B => C) *: B *: A *: (A => B) *: (A => B => C) *: EmptyTuple, C]]\n",
    "                    ): T[Sequent[B *: A *: (A => B) *: (A => B => C) *: EmptyTuple, C]]\n",
    "                ): T[Sequent[A *: (A => B) *: (A => B => C) *: EmptyTuple, C]]\n",
    "            ): T[Sequent[(A => B) *: (A => B => C) *: EmptyTuple, A => C]]\n",
    "        ): T[Sequent[(A => B => C) *: EmptyTuple, (A => B) => A => C]]\n",
    "    ): T[Sequent[EmptyTuple, (A => B => C) => (A => B) => A => C]]"
   ]
  },
  {
   "cell_type": "code",
   "execution_count": 29,
   "id": "9f8d4463-43ae-4df9-bff8-4eedddcc2523",
   "metadata": {},
   "outputs": [
    {
     "data": {
      "text/plain": [
       "\u001b[36mres29\u001b[39m: \u001b[32mInt\u001b[39m = \u001b[32m1\u001b[39m"
      ]
     },
     "execution_count": 29,
     "metadata": {},
     "output_type": "execute_result"
    }
   ],
   "source": [
    "proof1[ND.Std, Int, String](EmptyTuple)(1)(\"\")"
   ]
  },
  {
   "cell_type": "code",
   "execution_count": 30,
   "id": "2ef14262-3fde-42c4-9f84-a15eae7afb23",
   "metadata": {},
   "outputs": [
    {
     "data": {
      "text/plain": [
       "\u001b[36mres30\u001b[39m: \u001b[32mChar\u001b[39m = \u001b[32m'e'\u001b[39m"
      ]
     },
     "execution_count": 30,
     "metadata": {},
     "output_type": "execute_result"
    }
   ],
   "source": [
    "proof2[ND.Std, String, Int, Char](EmptyTuple)(\n",
    "    s => i => (s.toInt + i).toChar)(\n",
    "    s => 1)(\n",
    "    \"100\")"
   ]
  },
  {
   "cell_type": "markdown",
   "id": "d8df9199-2d02-4141-ad1e-d04a24271eba",
   "metadata": {
    "jp-MarkdownHeadingCollapsed": true
   },
   "source": [
    "### F-algebras"
   ]
  },
  {
   "cell_type": "code",
   "execution_count": 31,
   "id": "9250c7a0-09d7-4c5d-84f1-fa147ac3edbd",
   "metadata": {},
   "outputs": [
    {
     "data": {
      "text/plain": [
       "defined \u001b[32mtype\u001b[39m \u001b[36mLJ\u001b[39m\n",
       "defined \u001b[32mtype\u001b[39m \u001b[36mLJ_C\u001b[39m\n",
       "defined \u001b[32mclass\u001b[39m \u001b[36mLJ_F\u001b[39m\n",
       "defined \u001b[32mobject\u001b[39m \u001b[36mLJ_F\u001b[39m"
      ]
     },
     "execution_count": 31,
     "metadata": {},
     "output_type": "execute_result"
    }
   ],
   "source": [
    "type LJ[A] = HMu[LJ_C][A]\n",
    "\n",
    "type LJ_C[T[_]] = [A] =>> LJ_F[T, A]\n",
    "\n",
    "sealed abstract class LJ_F[T[_], S](using S): \n",
    "    val tpe: S = summon\n",
    "\n",
    "object LJ_F: \n",
    "\n",
    "    case class ax[T[_], G <: Tuple: Env, A: Type](i: Int)(using Elem[G, i.type] =:= A) \n",
    "    extends LJ_F[T, Sequent[G, A]]: \n",
    "        val ev: Elem[G, i.type] =:= A = summon\n",
    "\n",
    "    case class `l=>`[T[_], G <: Tuple: Env, A: Type, B: Type, C: Type](\n",
    "        i: Int,\n",
    "        t1: T[Sequent[G, A]], \n",
    "        t2: T[Sequent[B *: G, C]] \n",
    "    )(using Elem[G, i.type] =:= (A => B)) extends LJ_F[T, Sequent[G, C]]:\n",
    "        val ev: Elem[G, i.type] =:= (A => B) = summon\n",
    "\n",
    "    case class `r=>`[T[_], G <: Tuple: Env, A: Type, B: Type](\n",
    "        t: T[Sequent[A *: G, B]]\n",
    "    ) extends LJ_F[T, Sequent[G, A => B]]\n",
    "\n",
    "    given LJ_HFunctor: HFunctor[LJ_C] with \n",
    "        def hfmap[F[_], G[_]](nat: F ~> G): LJ_C[F] ~> LJ_C[G] = \n",
    "            [A] => (lf: LJ_F[F, A]) => lf match \n",
    "                case p: ax[F, g, a] => ax[G, g, a](p.i)(using p.tpe.env, p.tpe.con, p.ev)\n",
    "                case p: `l=>`[F, g, a, b, c] => `l=>`[G, g, a, b, c](p.i, nat(p.t1), nat(p.t2))(using p.tpe.env, p.tpe.env(p.i).asInstanceOf[Type.implies[a, b]].t1, p.tpe.env(p.i).asInstanceOf[Type.implies[a, b]].t2, p.tpe.con, p.ev)\n",
    "                case p: `r=>`[F, g, a, b] => `r=>`[G, g, a, b](nat(p.t))(using p.tpe.env, p.tpe.con.asInstanceOf[Type.implies[a,b]].t1, p.tpe.con.asInstanceOf[Type.implies[a,b]].t2)\n",
    "\n",
    "    given HTraverse[LJ_C] with \n",
    "        def traverse[H[_], I[_]: Applicative, J[_]](f: H ~> (I Compose J)): LJ_C[H] ~> (I Compose LJ_C[J]) = \n",
    "            [A] => (t: LJ_F[H, A]) => t match \n",
    "                case p: ax[H, g, a] => \n",
    "                    ax[J, g, a](p.i)(using p.tpe.env, p.tpe.con, p.ev).pure\n",
    "                case p: `l=>`[H, g, a, b, c] => \n",
    "                    Apply[I].ap2(\n",
    "                        (`l=>`[J, g, a, b, c].apply(\n",
    "                            p.i, \n",
    "                            _: J[Sequent[g,a]], \n",
    "                            _: J[Sequent[b *: g, c]]\n",
    "                        )(using p.tpe.env, p.tpe.env(p.i).asInstanceOf[Type.implies[a, b]].t1, p.tpe.env(p.i).asInstanceOf[Type.implies[a, b]].t2, p.tpe.con, p.ev)).pure[I])(\n",
    "                        f(p.t1), f(p.t2))\n",
    "                case p: `r=>`[H, g, a, b] => Functor[I].map(f(p.t))(`r=>`[J, g, a, b].apply(_)(using p.tpe.env, p.tpe.con.asInstanceOf[Type.implies[a,b]].t1, p.tpe.con.asInstanceOf[Type.implies[a,b]].t2)) \n",
    "\n",
    "    given LJ_Lambda[T[_]](using L: ND[T]): (LJ_C[T] ~> T) = \n",
    "        [S] => (lj: LJ_F[T, S]) => lj match \n",
    "            case axiom: ax[T, g, a] =>\n",
    "                L.v[g,a](axiom.i)(using axiom.ev)\n",
    "\n",
    "            case limpl: `l=>`[T, g, a, b, c] =>\n",
    "                L.substz(L.app(L.v(limpl.i)(using limpl.ev))(limpl.t1))(limpl.t2)\n",
    "\n",
    "            case rimpl: `r=>`[T, g, a, b] =>\n",
    "                L.abs(rimpl.t)\n",
    "\n",
    "    given LJ_Tree: LJ_C[Tree] ~> Tree = \n",
    "        [A] => (lj: LJ_F[Tree, A]) => lj match \n",
    "            case axiom: ax[Tree, g, a] =>\n",
    "                Tree(s\"ax(${axiom.i}): ${Sequent.show(axiom.tpe)}\", Nil)\n",
    "    \n",
    "            case limpl: `l=>`[Tree, g, a, b, c] =>\n",
    "                Tree(s\"l=>(${limpl.i}): ${Sequent.show(limpl.tpe)}\", List(limpl.t2, limpl.t1))\n",
    "    \n",
    "            case rimpl: `r=>`[Tree, g, a, b] =>\n",
    "                Tree(s\"r=>: ${Sequent.show(rimpl.tpe)}\", List(rimpl.t))\n",
    "\n",
    "    given LazyList_LJ_Tree: (LazyList HCompose LJ_C)[Tree] ~> Tree = \n",
    "        [A] => (ll: LazyList[LJ_F[Tree, A]]) => \n",
    "            Tree(\"*\", ll.map(LJ_Tree[A]).toList)\n",
    "\n",
    "    given LJ_Print: LJ_C[[t] =>> String] ~> ([t] =>> String) = \n",
    "        [A] => (lj: LJ_F[[t] =>> String, A]) => lj match \n",
    "            case h: ax[[t] =>> String, g, a] => \n",
    "                s\"ax(${h.i})\"\n",
    "\n",
    "            case h: `l=>`[[t] =>> String, g, a, b, c] => \n",
    "                s\"l=>(${h.i},${h.t1}, ${h.t2})\"\n",
    "\n",
    "            case h: `r=>`[[t] =>> String, g, a, b] => \n",
    "                s\"r=>(${h.t})\""
   ]
  },
  {
   "cell_type": "markdown",
   "id": "93ae7479-4fea-4b2d-95bd-32f2a01c2eca",
   "metadata": {
    "jp-MarkdownHeadingCollapsed": true
   },
   "source": [
    "### Type-driven coalgebra"
   ]
  },
  {
   "cell_type": "code",
   "execution_count": 32,
   "id": "33ca5320-c7c3-419f-a169-46d5c5ffc1a8",
   "metadata": {},
   "outputs": [
    {
     "data": {
      "text/plain": [
       "defined \u001b[32mobject\u001b[39m \u001b[36mTDD\u001b[39m"
      ]
     },
     "execution_count": 32,
     "metadata": {},
     "output_type": "execute_result"
    }
   ],
   "source": [
    "object TDD: \n",
    "\n",
    "    import LJ_F.*\n",
    "    \n",
    "    object ax: \n",
    "        val coalg: Id ~> (Option Compose LJ_C[Id]) = \n",
    "            [A] => (t: A) => t match \n",
    "                case s: Sequent[g, b] => \n",
    "                    indexOf(s.con)(s.env).map: iof => \n",
    "                        LJ_F.ax[Id, g, b](iof.i)(\n",
    "                            using s.env, s.con, iof.eq.asInstanceOf[Elem[g, iof.i.type] =:= b]\n",
    "                        ).asInstanceOf[LJ_F[Id, A]]\n",
    "                case _ => None\n",
    "    \n",
    "    object `l=>`: \n",
    "        val coalg: Id ~> (LazyList Compose LJ_C[Id]) = \n",
    "            [A] => (t: A) => t match \n",
    "                case s: Sequent[g, c] =>  \n",
    "                    indexOfImpl(s.env).map: ioi => \n",
    "                        LJ_F.`l=>`[Id, g, ioi.a, ioi.b, c](\n",
    "                            ioi.i, \n",
    "                            Sequent(s.env, Type[ioi.a]), \n",
    "                            Sequent(Type[ioi.b] *: s.env, s.con))(\n",
    "                            using s.env, s.env(ioi.i).asInstanceOf[Type.implies[ioi.a, ioi.b]].t1, s.env(ioi.i).asInstanceOf[Type.implies[ioi.a, ioi.b]].t2, s.con, ioi.eq.asInstanceOf[Elem[g, ioi.i.type] =:= (ioi.a => ioi.b)]\n",
    "                        ).asInstanceOf[LJ_F[Id, A]]\n",
    "                case _ => LazyList.empty\n",
    "\n",
    "    object `r=>`: \n",
    "        val coalg: Id ~> (Option Compose LJ_C[Id]) = \n",
    "            [A] => (t: A) => t match \n",
    "                case Sequent(env: Env[g], Type.implies(ta: Type[a], tb: Type[b])) => \n",
    "                    Some(LJ_F.`r=>`[Id, g, a, b](\n",
    "                        Sequent(ta *: env, tb))(\n",
    "                        using env, ta, tb\n",
    "                    ).asInstanceOf[LJ_F[Id, A]])\n",
    "                case _ => None\n",
    "    \n",
    "    given Conversion[Id ~> (Option Compose LJ_C[Id]),\n",
    "                     Id ~> (LazyList Compose LJ_C[Id])] = c => \n",
    "        [A] => (t: Id[A]) => LazyList.from(c(t))\n",
    "\n",
    "    extension (coalg: Id ~> (LazyList Compose LJ_C[Id]))\n",
    "        def +(c: Id ~> (LazyList Compose LJ_C[Id])): Id ~> (LazyList Compose LJ_C[Id]) = \n",
    "            [A] => (t: A) => coalg(t) ++ c(t)\n",
    "\n",
    "    val Coalg: Id ~> (LazyList Compose LJ_C[Id]) = \n",
    "        ax.coalg +     \n",
    "        `r=>`.coalg +\n",
    "        `l=>`.coalg \n",
    "                "
   ]
  },
  {
   "cell_type": "markdown",
   "id": "906a3ae3-40c4-45a2-810b-5c92c078802d",
   "metadata": {
    "jp-MarkdownHeadingCollapsed": true
   },
   "source": [
    "### Utils"
   ]
  },
  {
   "cell_type": "code",
   "execution_count": 33,
   "id": "7a21bfe7-8729-4822-9baa-5ada5e6f1e68",
   "metadata": {},
   "outputs": [
    {
     "data": {
      "text/plain": [
       "defined \u001b[32mfunction\u001b[39m \u001b[36msearchSpace\u001b[39m"
      ]
     },
     "execution_count": 33,
     "metadata": {},
     "output_type": "execute_result"
    }
   ],
   "source": [
    "def searchSpace[A: Type]: HMu[LazyList HCompose LJ_C][Sequent[EmptyTuple, A]] = \n",
    "    HMuA.unfold[Id, LazyList HCompose LJ_C](TDD.Coalg)\n",
    "            .apply(Sequent(EmptyTuple, Type[A]))"
   ]
  },
  {
   "cell_type": "code",
   "execution_count": 34,
   "id": "c7138e33-4f64-4793-9117-91a8843c1a2d",
   "metadata": {},
   "outputs": [
    {
     "data": {
      "text/plain": [
       "defined \u001b[32mfunction\u001b[39m \u001b[36mproofs\u001b[39m"
      ]
     },
     "execution_count": 34,
     "metadata": {},
     "output_type": "execute_result"
    }
   ],
   "source": [
    "def proofs[A: Type]: LazyList[LJ[Sequent[EmptyTuple, A]]] = \n",
    "    val ss: HMu[LazyList HCompose LJ_C][Sequent[EmptyTuple, A]] = searchSpace[A]\n",
    "    HMuA.sequenceF_Until[LazyList, LJ_C](10).apply(ss)"
   ]
  },
  {
   "cell_type": "code",
   "execution_count": 35,
   "id": "96fe50da-104d-4ac5-a398-0cf75abf9008",
   "metadata": {},
   "outputs": [
    {
     "data": {
      "text/plain": [
       "defined \u001b[32mextension methods\u001b[39m "
      ]
     },
     "execution_count": 35,
     "metadata": {},
     "output_type": "execute_result"
    }
   ],
   "source": [
    "extension [A: Type](outs: LazyList[LJ[Sequent[EmptyTuple, A]]])\n",
    "    def and[T[_]](alg: LJ_C[T] ~> T): LazyList[T[Sequent[EmptyTuple, A]]] = \n",
    "        outs.map(HMuA.fold(alg)(using summon).apply)"
   ]
  },
  {
   "cell_type": "code",
   "execution_count": 36,
   "id": "84110f55-c4fb-475b-ae78-95dc13cdfbab",
   "metadata": {},
   "outputs": [
    {
     "data": {
      "text/plain": [
       "defined \u001b[32mfunction\u001b[39m \u001b[36mprintS\u001b[39m"
      ]
     },
     "execution_count": 36,
     "metadata": {},
     "output_type": "execute_result"
    }
   ],
   "source": [
    "def printS[A](ss: HMu[LazyList HCompose LJ_C][A])(depth: Int) = \n",
    "    println(HMuA.show[LazyList HCompose LJ_C](depth).apply(ss))"
   ]
  },
  {
   "cell_type": "code",
   "execution_count": 37,
   "id": "ea98d468-6fcc-495f-9d22-0d79f0e018ec",
   "metadata": {},
   "outputs": [
    {
     "data": {
      "text/plain": [
       "defined \u001b[32mfunction\u001b[39m \u001b[36mprintP\u001b[39m"
      ]
     },
     "execution_count": 37,
     "metadata": {},
     "output_type": "execute_result"
    }
   ],
   "source": [
    "def printP[A](ss: HMu[LJ_C][A])(depth: Int): Unit = \n",
    "    println(HMuA.show[LJ_C](depth).apply(ss))"
   ]
  },
  {
   "cell_type": "markdown",
   "id": "381676a1-5764-4051-8719-757aa780dc4d",
   "metadata": {},
   "source": [
    "# Examples"
   ]
  },
  {
   "cell_type": "code",
   "execution_count": 38,
   "id": "93424456-8d5b-420c-a3aa-29aa777ec97e",
   "metadata": {},
   "outputs": [
    {
     "data": {
      "text/plain": [
       "defined \u001b[32mtrait\u001b[39m \u001b[36mp\u001b[39m\n",
       "defined \u001b[32mtrait\u001b[39m \u001b[36mq\u001b[39m\n",
       "defined \u001b[32mtrait\u001b[39m \u001b[36mr\u001b[39m\n",
       "defined \u001b[32mtrait\u001b[39m \u001b[36ms\u001b[39m\n",
       "defined \u001b[32mtrait\u001b[39m \u001b[36mt\u001b[39m"
      ]
     },
     "execution_count": 38,
     "metadata": {},
     "output_type": "execute_result"
    }
   ],
   "source": [
    "trait p\n",
    "trait q\n",
    "trait r\n",
    "trait s\n",
    "trait t"
   ]
  },
  {
   "cell_type": "code",
   "execution_count": 39,
   "id": "b59d8528-7e0d-4577-a09a-ad79b0c4ad24",
   "metadata": {},
   "outputs": [
    {
     "data": {
      "text/plain": [
       "\u001b[36mres39\u001b[39m: \u001b[32mSequent\u001b[39m[(\u001b[32mp\u001b[39m, \u001b[32mq\u001b[39m, \u001b[32mr\u001b[39m), \u001b[32ms\u001b[39m] = \u001b[33mSequent\u001b[39m(\n",
       "  env = (\u001b[33matom\u001b[39m(s = \u001b[32m\"p\"\u001b[39m), \u001b[33matom\u001b[39m(s = \u001b[32m\"q\"\u001b[39m), \u001b[33matom\u001b[39m(s = \u001b[32m\"r\"\u001b[39m)),\n",
       "  con = \u001b[33matom\u001b[39m(s = \u001b[32m\"s\"\u001b[39m)\n",
       ")"
      ]
     },
     "execution_count": 39,
     "metadata": {},
     "output_type": "execute_result"
    }
   ],
   "source": [
    "// p, q, r ⊢ s\n",
    "Sequent[(p,q,r), s]"
   ]
  },
  {
   "cell_type": "code",
   "execution_count": 39,
   "id": "11159541-0957-45f8-b7d9-f1c94421e108",
   "metadata": {},
   "outputs": [],
   "source": [
    "TDD.ax.coalg(Sequent[Char *: Int *: EmptyTuple, Int]"
   ]
  },
  {
   "cell_type": "code",
   "execution_count": 40,
   "id": "ded019df-2239-412d-89ae-a4860bba6005",
   "metadata": {},
   "outputs": [
    {
     "data": {
      "text/plain": [
       "\u001b[36mres40\u001b[39m: \u001b[32mLazyList\u001b[39m[\u001b[32mLJ_C\u001b[39m[\u001b[32mSequent\u001b[39m[\u001b[32m*:\u001b[39m[\u001b[32mChar\u001b[39m => \u001b[32mInt\u001b[39m, \u001b[32m*:\u001b[39m[\u001b[32mChar\u001b[39m, \u001b[32mEmptyTuple\u001b[39m]], \u001b[32mInt\u001b[39m]]] = \u001b[33mLazyList\u001b[39m(\n",
       "  \u001b[33ml=>\u001b[39m(\n",
       "    i = \u001b[32m0\u001b[39m,\n",
       "    t1 = \u001b[33mSequent\u001b[39m(\n",
       "      env = (\n",
       "        \u001b[33mimplies\u001b[39m(t1 = \u001b[33matom\u001b[39m(s = \u001b[32m\"char\"\u001b[39m), t2 = \u001b[33matom\u001b[39m(s = \u001b[32m\"int\"\u001b[39m)),\n",
       "        \u001b[33matom\u001b[39m(s = \u001b[32m\"char\"\u001b[39m)\n",
       "      ),\n",
       "      con = \u001b[33matom\u001b[39m(s = \u001b[32m\"char\"\u001b[39m)\n",
       "    ),\n",
       "    t2 = \u001b[33mSequent\u001b[39m(\n",
       "      env = (\n",
       "        \u001b[33matom\u001b[39m(s = \u001b[32m\"int\"\u001b[39m),\n",
       "        \u001b[33mimplies\u001b[39m(t1 = \u001b[33matom\u001b[39m(s = \u001b[32m\"char\"\u001b[39m), t2 = \u001b[33matom\u001b[39m(s = \u001b[32m\"int\"\u001b[39m)),\n",
       "        \u001b[33matom\u001b[39m(s = \u001b[32m\"char\"\u001b[39m)\n",
       "      ),\n",
       "      con = \u001b[33matom\u001b[39m(s = \u001b[32m\"int\"\u001b[39m)\n",
       "    )\n",
       "  )\n",
       ")"
      ]
     },
     "execution_count": 40,
     "metadata": {},
     "output_type": "execute_result"
    }
   ],
   "source": [
    "TDD.`l=>`.coalg(Sequent[(Char => Int) *: Char *: EmptyTuple, Int])"
   ]
  },
  {
   "cell_type": "code",
   "execution_count": 41,
   "id": "a25355d6-b839-4d02-af73-d6240653ca48",
   "metadata": {},
   "outputs": [
    {
     "name": "stdout",
     "output_type": "stream",
     "text": [
      "*\n",
      "   └──r=>:  ⊢ (int => (char => int))\n",
      "      └──*\n",
      "         └──r=>: int ⊢ (char => int)\n",
      "            └──*\n",
      "               └──ax(1): char, int ⊢ int\n"
     ]
    }
   ],
   "source": [
    "printS(searchSpace[Int => Char => Int])(3)"
   ]
  },
  {
   "cell_type": "code",
   "execution_count": 42,
   "id": "1e7383a9-9304-4daf-a773-068058f50e66",
   "metadata": {},
   "outputs": [
    {
     "name": "stdout",
     "output_type": "stream",
     "text": [
      "r=>:  ⊢ (int => (char => int))\n",
      "   └──r=>: int ⊢ (char => int)\n",
      "      └──ax(1): char, int ⊢ int\n"
     ]
    }
   ],
   "source": [
    "printP(proofs[Int => Char => Int].head)(3)"
   ]
  },
  {
   "cell_type": "code",
   "execution_count": 43,
   "id": "01330a3d-1246-460d-8235-8130ba454e54",
   "metadata": {},
   "outputs": [
    {
     "name": "stdout",
     "output_type": "stream",
     "text": [
      "*\n",
      "   └──r=>:  ⊢ ((int => (char => boolean)) => ((int => char) => (int => boolean)))\n",
      "      └──*\n",
      "         ├──l=>(0): (int => (char => boolean)) ⊢ ((int => char) => (int => boolean))\n",
      "         |   ├──*\n",
      "         |   |   └──l=>(0): (int => (char => boolean)) ⊢ int\n",
      "         |   |      ├──...\n",
      "         |   |      └──...\n",
      "         |   └──*\n",
      "         |      ├──l=>(0): (char => boolean), (int => (char => boolean)) ⊢ ((int => char) => (int => boolean))\n",
      "         |      |   ├──...\n",
      "         |      |   └──...\n",
      "         |      ├──l=>(1): (char => boolean), (int => (char => boolean)) ⊢ ((int => char) => (int => boolean))\n",
      "         |      |   ├──...\n",
      "         |      |   └──...\n",
      "         |      └──r=>: (char => boolean), (int => (char => boolean)) ⊢ ((int => char) => (int => boolean))\n",
      "         |         └──...\n",
      "         └──r=>: (int => (char => boolean)) ⊢ ((int => char) => (int => boolean))\n",
      "            └──*\n",
      "               ├──l=>(0): (int => char), (int => (char => boolean)) ⊢ (int => boolean)\n",
      "               |   ├──...\n",
      "               |   └──...\n",
      "               ├──l=>(1): (int => char), (int => (char => boolean)) ⊢ (int => boolean)\n",
      "               |   ├──...\n",
      "               |   └──...\n",
      "               └──r=>: (int => char), (int => (char => boolean)) ⊢ (int => boolean)\n",
      "                  └──...\n"
     ]
    }
   ],
   "source": [
    "printS(searchSpace[(Int => Char => Boolean) => (Int => Char) => (Int => Boolean)])(3)"
   ]
  },
  {
   "cell_type": "code",
   "execution_count": 44,
   "id": "9969e5ae-0984-45b6-bb6c-77919ebd71e9",
   "metadata": {},
   "outputs": [
    {
     "name": "stdout",
     "output_type": "stream",
     "text": [
      "r=>:  ⊢ ((p => (q => r)) => ((p => q) => (p => r)))\n",
      "   └──r=>: (p => (q => r)) ⊢ ((p => q) => (p => r))\n",
      "      └──r=>: (p => q), (p => (q => r)) ⊢ (p => r)\n",
      "         └──l=>(1): p, (p => q), (p => (q => r)) ⊢ r\n",
      "            ├──ax(0): p, (p => q), (p => (q => r)) ⊢ p\n",
      "            └──l=>(2): q, p, (p => q), (p => (q => r)) ⊢ r\n",
      "               ├──ax(1): q, p, (p => q), (p => (q => r)) ⊢ p\n",
      "               └──l=>(3): q, q, p, (p => q), (p => (q => r)) ⊢ r\n",
      "                  ├──ax(2): q, q, p, (p => q), (p => (q => r)) ⊢ p\n",
      "                  └──l=>(4): q, q, q, p, (p => q), (p => (q => r)) ⊢ r\n",
      "                     ├──ax(3): q, q, q, p, (p => q), (p => (q => r)) ⊢ p\n",
      "                     └──l=>(6): q, q, q, q, p, (p => q), (p => (q => r)) ⊢ r\n",
      "                        ├──ax(4): q, q, q, q, p, (p => q), (p => (q => r)) ⊢ p\n",
      "                        └──l=>(0): (q => r), q, q, q, q, p, (p => q), (p => (q => r)) ⊢ r\n",
      "                           ├──ax(1): (q => r), q, q, q, q, p, (p => q), (p => (q => r)) ⊢ q\n",
      "                           └──ax(0): r, (q => r), q, q, q, q, p, (p => q), (p => (q => r)) ⊢ r\n"
     ]
    }
   ],
   "source": [
    "printP(proofs[(p => q => r) => (p => q) => (p => r)].head)(10)"
   ]
  },
  {
   "cell_type": "code",
   "execution_count": 46,
   "id": "613cd232-e5fe-4327-8d07-cfe3148e3272",
   "metadata": {},
   "outputs": [
    {
     "name": "stdout",
     "output_type": "stream",
     "text": [
      "...\n"
     ]
    }
   ],
   "source": [
    "printS(searchSpace[((q => r) => p => q) => (r => s) => ((p => q) => r) => s])(0)"
   ]
  },
  {
   "cell_type": "code",
   "execution_count": null,
   "id": "c2ce8588-2068-481c-b0fc-50070512c77e",
   "metadata": {},
   "outputs": [],
   "source": []
  }
 ],
 "metadata": {
  "kernelspec": {
   "display_name": "Scala (3.6.3)",
   "language": "scala",
   "name": "scala3.6"
  },
  "language_info": {
   "codemirror_mode": "text/x-scala",
   "file_extension": ".sc",
   "mimetype": "text/x-scala",
   "name": "scala",
   "nbconvert_exporter": "script",
   "version": "2.13.16"
  }
 },
 "nbformat": 4,
 "nbformat_minor": 5
}
