{
 "cells": [
  {
   "cell_type": "code",
   "execution_count": 2,
   "id": "5e791710-d039-4a48-ad69-a68c46a66d9f",
   "metadata": {},
   "outputs": [
    {
     "name": "stderr",
     "output_type": "stream",
     "text": [
      "Downloading https://jitpack.io/io/chymyst/curryhoward_2.13/\n",
      "Failed to download https://jitpack.io/io/chymyst/curryhoward_2.13/\n"
     ]
    },
    {
     "data": {
      "text/plain": [
       "\u001b[32mimport \u001b[39m\u001b[36m$ivy.$\u001b[39m"
      ]
     },
     "execution_count": 2,
     "metadata": {},
     "output_type": "execute_result"
    }
   ],
   "source": [
    "import $ivy.`io.chymyst::curryhoward:latest.integration`"
   ]
  },
  {
   "cell_type": "code",
   "execution_count": 3,
   "id": "e09602a0-b0d9-4c08-b036-43f5cbee937e",
   "metadata": {},
   "outputs": [
    {
     "data": {
      "text/plain": [
       "\u001b[32mimport \u001b[39m\u001b[36mio.chymyst.ch._\u001b[39m"
      ]
     },
     "execution_count": 3,
     "metadata": {},
     "output_type": "execute_result"
    }
   ],
   "source": [
    "import io.chymyst.ch._"
   ]
  },
  {
   "cell_type": "code",
   "execution_count": 4,
   "id": "58d96f83-91d7-490e-8f8c-a4a4d0767883",
   "metadata": {},
   "outputs": [
    {
     "data": {
      "text/plain": [
       "\u001b[36mres4\u001b[39m: \u001b[32mString\u001b[39m = \u001b[32mnull\u001b[39m"
      ]
     },
     "execution_count": 4,
     "metadata": {},
     "output_type": "execute_result"
    }
   ],
   "source": [
    "System.setProperty(\"curryhoward.log\", \"verbose\")"
   ]
  },
  {
   "cell_type": "code",
   "execution_count": 6,
   "id": "e7d31154-c7a5-4a2a-932c-fad4301a85e2",
   "metadata": {},
   "outputs": [
    {
     "name": "stdout",
     "output_type": "stream",
     "text": [
      "cmd6.sc:2: Returning term: a ⇒ Tuple2(b ⇒ a (Left(b) + 0), c ⇒ a (0 + Right(c)))\n",
      "    implement\n",
      "    ^\n"
     ]
    },
    {
     "data": {
      "text/plain": [
       "defined \u001b[32mfunction\u001b[39m \u001b[36mfoo\u001b[39m"
      ]
     },
     "execution_count": 6,
     "metadata": {},
     "output_type": "execute_result"
    }
   ],
   "source": [
    "def foo[A, B, C]: (Either[A, B] => C) => (A => C, B => C) = \n",
    "    implement"
   ]
  },
  {
   "cell_type": "code",
   "execution_count": null,
   "id": "4b0cf749-3e79-434b-91dc-15c93abffe67",
   "metadata": {},
   "outputs": [],
   "source": [
    "def term[P, Q, R]: (P => (Q => R)) => (P => Q) => (P => R) = \n",
    "    implement"
   ]
  },
  {
   "cell_type": "code",
   "execution_count": 7,
   "id": "e899bfb1-b2fa-420a-aebd-0d2209ddb9c7",
   "metadata": {},
   "outputs": [
    {
     "name": "stderr",
     "output_type": "stream",
     "text": [
      "cmd8.sc:4: type Either[P,Either[Q,R]] ⇒ Either[P ⇒ 0,S] ⇒ (S ⇒ R) ⇒ (Q ⇒ 0) ⇒ R cannot be implemented\n",
      "    implement\n",
      "    ^\n",
      "Compilation Failed"
     ]
    }
   ],
   "source": [
    "type Not[P] = P => Nothing \n",
    "\n",
    "def proof[P, Q, R, S](p1: Either[P, Either[Q, R]], p2: Either[Not[P], S], p3: S => R): Not[Q] => R =\n",
    "    implement"
   ]
  },
  {
   "cell_type": "code",
   "execution_count": 7,
   "id": "1024a0f3-d690-42c4-aac4-57515f5fe776",
   "metadata": {},
   "outputs": [
    {
     "name": "stdout",
     "output_type": "stream",
     "text": [
      "cmd7.sc:2: Returning term: a ⇒ b ⇒ c ⇒ b (c (a (d ⇒ c (e ⇒ d))))\n",
      "    implement\n",
      "    ^\n"
     ]
    },
    {
     "name": "stderr",
     "output_type": "stream",
     "text": [
      "cmd7.sc:2: type ((Q ⇒ R) ⇒ P ⇒ Q) ⇒ (R ⇒ S) ⇒ ((P ⇒ Q) ⇒ R) ⇒ S has 2 implementations (laws need checking?):\n",
      " a ⇒ b ⇒ c ⇒ b (c (a (d ⇒ c (e ⇒ d)))) [score: (1,0,0,1,1)];\n",
      " a ⇒ b ⇒ c ⇒ b (c (a (d ⇒ c (a (e ⇒ c (f ⇒ d)))))) [score: (2,0,0,3,3)].\n",
      "    implement\n",
      "    ^\n"
     ]
    },
    {
     "data": {
      "text/plain": [
       "defined \u001b[32mfunction\u001b[39m \u001b[36mproof\u001b[39m"
      ]
     },
     "execution_count": 7,
     "metadata": {},
     "output_type": "execute_result"
    }
   ],
   "source": [
    "def proof[P, Q, R, S]: ((Q => R) => P => Q) => (R => S) => ((P => Q) => R) => S = \n",
    "    implement"
   ]
  },
  {
   "cell_type": "code",
   "execution_count": null,
   "id": "a60859da-efcd-4ac8-8667-c1adc2c8ad04",
   "metadata": {},
   "outputs": [],
   "source": []
  }
 ],
 "metadata": {
  "kernelspec": {
   "display_name": "Scala",
   "language": "scala",
   "name": "scala"
  },
  "language_info": {
   "codemirror_mode": "text/x-scala",
   "file_extension": ".sc",
   "mimetype": "text/x-scala",
   "name": "scala",
   "nbconvert_exporter": "script",
   "version": "2.13.16"
  }
 },
 "nbformat": 4,
 "nbformat_minor": 5
}
